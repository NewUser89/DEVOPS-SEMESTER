{
 "cells": [
  {
   "cell_type": "code",
   "execution_count": null,
   "id": "365efeae-7035-415a-8e0a-2716b4414fbc",
   "metadata": {},
   "outputs": [],
   "source": [
    "###molotov tool\n",
    "from molotov import scenario\n",
    "\n",
    "\n",
    "_API = \"http://localhost:8080\"\n",
    "\n",
    "\n",
    "@scenario(weight=40)\n",
    "async def scenario_one(session):\n",
    "    async with session.get(_API) as resp:\n",
    "        res = await resp.json()\n",
    "        assert res[\"result\"] == \"OK\"\n",
    "        assert resp.status == 200\n",
    "\n",
    "\n",
    "@scenario(weight=60)\n",
    "async def scenario_two(session):\n",
    "    async with session.get(_API) as resp:\n",
    "        assert resp.status == 200"
   ]
  },
  {
   "cell_type": "code",
   "execution_count": null,
   "id": "45f018ec-dafd-4bee-836a-87c02ce8f75d",
   "metadata": {},
   "outputs": [],
   "source": []
  }
 ],
 "metadata": {
  "kernelspec": {
   "display_name": "Python 3 (ipykernel)",
   "language": "python",
   "name": "python3"
  },
  "language_info": {
   "codemirror_mode": {
    "name": "ipython",
    "version": 3
   },
   "file_extension": ".py",
   "mimetype": "text/x-python",
   "name": "python",
   "nbconvert_exporter": "python",
   "pygments_lexer": "ipython3",
   "version": "3.9.7"
  }
 },
 "nbformat": 4,
 "nbformat_minor": 5
}
